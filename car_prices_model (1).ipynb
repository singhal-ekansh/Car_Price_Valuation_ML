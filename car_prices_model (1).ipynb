{
  "nbformat": 4,
  "nbformat_minor": 0,
  "metadata": {
    "colab": {
      "name": "car_prices_model.ipynb",
      "provenance": [],
      "collapsed_sections": []
    },
    "kernelspec": {
      "display_name": "Python 3",
      "name": "python3"
    },
    "language_info": {
      "name": "python"
    }
  },
  "cells": [
    {
      "cell_type": "markdown",
      "source": [
        "**CAR PRICE PREDICTION**"
      ],
      "metadata": {
        "id": "Stomr0dLp2Xb"
      }
    },
    {
      "cell_type": "markdown",
      "metadata": {
        "id": "HI37JrX0NOfE"
      },
      "source": [
        "**Importing libraries**"
      ]
    },
    {
      "cell_type": "code",
      "metadata": {
        "id": "tX_Rj7Q-NU4f"
      },
      "source": [
        "import pandas as pd\n",
        "import numpy as np\n",
        "from sklearn.impute import SimpleImputer\n",
        "from sklearn.preprocessing import LabelEncoder\n",
        "from sklearn.preprocessing import StandardScaler\n",
        "from sklearn.model_selection import train_test_split"
      ],
      "execution_count": 99,
      "outputs": []
    },
    {
      "cell_type": "markdown",
      "metadata": {
        "id": "tjPHLlmqNnnZ"
      },
      "source": [
        "**open csv file and seprate features and lables**"
      ]
    },
    {
      "cell_type": "code",
      "metadata": {
        "id": "d6nc4C94NsVk",
        "colab": {
          "base_uri": "https://localhost:8080/"
        },
        "outputId": "442cea78-bde0-4812-c413-a6285f359cfa"
      },
      "source": [
        "df= pd.read_csv(\"/content/Car details v3.csv\")\n",
        "\n",
        "print(df)\n",
        "print(df.columns)\n"
      ],
      "execution_count": 100,
      "outputs": [
        {
          "output_type": "stream",
          "name": "stdout",
          "text": [
            "                              name  year  ...                     torque  seats\n",
            "0           Maruti Swift Dzire VDI  2014  ...             190Nm@ 2000rpm    5.0\n",
            "1     Skoda Rapid 1.5 TDI Ambition  2014  ...        250Nm@ 1500-2500rpm    5.0\n",
            "2         Honda City 2017-2020 EXi  2006  ...      12.7@ 2,700(kgm@ rpm)    5.0\n",
            "3        Hyundai i20 Sportz Diesel  2010  ...   22.4 kgm at 1750-2750rpm    5.0\n",
            "4           Maruti Swift VXI BSIII  2007  ...      11.5@ 4,500(kgm@ rpm)    5.0\n",
            "...                            ...   ...  ...                        ...    ...\n",
            "8123             Hyundai i20 Magna  2013  ...           113.7Nm@ 4000rpm    5.0\n",
            "8124         Hyundai Verna CRDi SX  2007  ...  24@ 1,900-2,750(kgm@ rpm)    5.0\n",
            "8125        Maruti Swift Dzire ZDi  2009  ...             190Nm@ 2000rpm    5.0\n",
            "8126               Tata Indigo CR4  2013  ...        140Nm@ 1800-3000rpm    5.0\n",
            "8127               Tata Indigo CR4  2013  ...        140Nm@ 1800-3000rpm    5.0\n",
            "\n",
            "[8128 rows x 13 columns]\n",
            "Index(['name', 'year', 'selling_price', 'km_driven', 'fuel', 'seller_type',\n",
            "       'transmission', 'owner', 'mileage', 'engine', 'max_power', 'torque',\n",
            "       'seats'],\n",
            "      dtype='object')\n"
          ]
        }
      ]
    },
    {
      "cell_type": "markdown",
      "source": [
        "**Data Preprocessing**"
      ],
      "metadata": {
        "id": "HeJaf3fr7AMe"
      }
    },
    {
      "cell_type": "code",
      "metadata": {
        "id": "2EN2_-bzFNre"
      },
      "source": [
        "#preprocessing \n",
        "\n",
        "# remove rows whose mileage in km/kg \n",
        "for i in range(len(df)):\n",
        "  if str(df.loc[i,'mileage']).endswith(\"km/kg\"):\n",
        "    df.loc[i,'mileage']=np.nan\n",
        "\n",
        "#remove rows with null values    \n",
        "df = df.dropna()\n",
        "\n",
        "#removing spaces and units from data\n",
        "\n",
        "df['year']=2021-df['year']\n",
        "df['mileage'] = df['mileage'].str.slice(0, -5)\n",
        "df['mileage'] = df['mileage'].str.strip()\n",
        "df['engine'] = df['engine'].str.slice(0, -2)\n",
        "df['engine'] = df['engine'].str.strip()\n",
        "df['max_power'] = df['max_power'].str.slice(0, -3)\n",
        "df['max_power'] = df['max_power'].str.strip()\n",
        "df['max_power']=pd.to_numeric(df['max_power'])\n",
        "df['engine']= pd.to_numeric(df['engine'])\n",
        "df['mileage'] = pd.to_numeric(df['mileage'])\n",
        "\n",
        "\n",
        "\n"
      ],
      "execution_count": null,
      "outputs": []
    },
    {
      "cell_type": "markdown",
      "source": [
        "**Seprating features and lable**"
      ],
      "metadata": {
        "id": "gYzQy__-7Gvu"
      }
    },
    {
      "cell_type": "code",
      "source": [
        "X= df.iloc[:,[1,3,4,5,6,7,8,9,10,12]].values\n",
        "Y= df.iloc[:,2].values\n",
        "Y = Y.reshape(-1,1)\n",
        "print(X[0])\n",
        "print()\n",
        "print(Y)"
      ],
      "metadata": {
        "colab": {
          "base_uri": "https://localhost:8080/"
        },
        "id": "RHNQV7Eo7HK7",
        "outputId": "af1cdcc9-ba47-4c59-955d-393f87df2f4a"
      },
      "execution_count": 102,
      "outputs": [
        {
          "output_type": "stream",
          "name": "stdout",
          "text": [
            "[7 145500 'Diesel' 'Individual' 'Manual' 'First Owner' 23.4 1248 74.0 5.0]\n",
            "\n",
            "[[450000]\n",
            " [370000]\n",
            " [158000]\n",
            " ...\n",
            " [382000]\n",
            " [290000]\n",
            " [290000]]\n"
          ]
        }
      ]
    },
    {
      "cell_type": "markdown",
      "metadata": {
        "id": "aQnz7fquOCEJ"
      },
      "source": [
        "**perform encoding ie to convert all to numerical data**"
      ]
    },
    {
      "cell_type": "code",
      "metadata": {
        "colab": {
          "base_uri": "https://localhost:8080/"
        },
        "id": "zMHZy-I5OIUG",
        "outputId": "f70b56a7-88c8-4161-e1be-7245d8035869"
      },
      "source": [
        "le2 = LabelEncoder()\n",
        "X[:,2] =  le2.fit_transform(X[:,2])\n",
        "le3 = LabelEncoder()\n",
        "X[:,3] =  le3.fit_transform(X[:,3])\n",
        "le4 = LabelEncoder()\n",
        "X[:,4] =  le4.fit_transform(X[:,4])\n",
        "le5 = LabelEncoder()\n",
        "X[:,5] =  le5.fit_transform(X[:,5])\n",
        "\n",
        "print(X[0,:])"
      ],
      "execution_count": 103,
      "outputs": [
        {
          "output_type": "stream",
          "name": "stdout",
          "text": [
            "[7 145500 0 1 1 0 23.4 1248 74.0 5.0]\n"
          ]
        }
      ]
    },
    {
      "cell_type": "markdown",
      "metadata": {
        "id": "GOFOr3rzOMHa"
      },
      "source": [
        "**feature scaling**"
      ]
    },
    {
      "cell_type": "code",
      "metadata": {
        "id": "nL5JCLWTOQo_",
        "colab": {
          "base_uri": "https://localhost:8080/"
        },
        "outputId": "94b40314-80d6-44ad-9ae9-4e88b5053cdc"
      },
      "source": [
        "sc= StandardScaler()\n",
        "X = sc.fit_transform(X)\n",
        "Y = sc.fit_transform(Y)\n",
        "print(X)"
      ],
      "execution_count": 104,
      "outputs": [
        {
          "output_type": "stream",
          "name": "stdout",
          "text": [
            "[[-0.00251484  1.34295586 -0.90487296 ... -0.42624019 -0.50143475\n",
            "  -0.43755227]\n",
            " [-0.00251484  0.89456636 -0.90487296 ...  0.06917899  0.3238882\n",
            "  -0.43755227]\n",
            " [ 2.06733151  1.2462444   1.10512751 ...  0.06719732 -0.38960238\n",
            "  -0.43755227]\n",
            " ...\n",
            " [ 1.29113913  0.89456636 -0.90487296 ... -0.42624019 -0.50423056\n",
            "  -0.43755227]\n",
            " [ 0.25621595 -0.77590432 -0.90487296 ... -0.13295203 -0.61326713\n",
            "  -0.43755227]\n",
            " [ 0.25621595 -0.77590432 -0.90487296 ... -0.13295203 -0.61326713\n",
            "  -0.43755227]]\n"
          ]
        }
      ]
    },
    {
      "cell_type": "markdown",
      "metadata": {
        "id": "GMOoARyVOUE_"
      },
      "source": [
        "**splitting test and train data**"
      ]
    },
    {
      "cell_type": "code",
      "metadata": {
        "id": "SpyjREUDOXr_"
      },
      "source": [
        "X_train , X_test , Y_train , Y_test = train_test_split(X,Y,test_size=0.20)"
      ],
      "execution_count": 105,
      "outputs": []
    },
    {
      "cell_type": "markdown",
      "metadata": {
        "id": "6_8qdOo2Oaxo"
      },
      "source": [
        "**training linear regression model**"
      ]
    },
    {
      "cell_type": "code",
      "metadata": {
        "id": "ih19_jTSP1tP"
      },
      "source": [
        "from sklearn.linear_model import LinearRegression\n",
        "model = LinearRegression()\n",
        "model.fit(X_train,Y_train)\n",
        "y_pred=model.predict(X_test)\n"
      ],
      "execution_count": 106,
      "outputs": []
    },
    {
      "cell_type": "markdown",
      "metadata": {
        "id": "M-FRkcZgB9BF"
      },
      "source": [
        "**analyse linear model**"
      ]
    },
    {
      "cell_type": "code",
      "metadata": {
        "colab": {
          "base_uri": "https://localhost:8080/"
        },
        "id": "BLWz4hL-CD9R",
        "outputId": "8930a6b9-d2c7-45d5-d1be-aa0fbb847ec2"
      },
      "source": [
        "print(model.score(X_test,Y_test))\n"
      ],
      "execution_count": 107,
      "outputs": [
        {
          "output_type": "stream",
          "name": "stdout",
          "text": [
            "0.6923876461002327\n"
          ]
        }
      ]
    }
  ]
}